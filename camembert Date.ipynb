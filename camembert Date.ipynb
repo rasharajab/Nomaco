{
 "cells": [
  {
   "cell_type": "code",
   "execution_count": 1,
   "id": "b8c7fc96",
   "metadata": {
    "scrolled": true
   },
   "outputs": [
    {
     "name": "stderr",
     "output_type": "stream",
     "text": [
      "C:\\Users\\rrajab\\Anaconda3\\envs\\envNER\\lib\\site-packages\\tqdm\\auto.py:22: TqdmWarning: IProgress not found. Please update jupyter and ipywidgets. See https://ipywidgets.readthedocs.io/en/stable/user_install.html\n",
      "  from .autonotebook import tqdm as notebook_tqdm\n"
     ]
    }
   ],
   "source": [
    "from transformers import AutoTokenizer, AutoModelForTokenClassification\n",
    "\n",
    "tokenizer = AutoTokenizer.from_pretrained(\"Jean-Baptiste/camembert-ner-with-dates\")\n",
    "\n",
    "model = AutoModelForTokenClassification.from_pretrained(\"Jean-Baptiste/camembert-ner-with-dates\")\n",
    "\n",
    "##### Process text sample (from wikipedia)"
   ]
  },
  {
   "cell_type": "code",
   "execution_count": 2,
   "id": "a54a874d",
   "metadata": {
    "scrolled": true
   },
   "outputs": [
    {
     "name": "stdout",
     "output_type": "stream",
     "text": [
      "Number data in orginal file  =  1541\n",
      "Number des dates existe in original file data=  490\n",
      "Number de data extrait =  501\n",
      "Number des data afficher sans repetation =  493\n",
      "Number des dates afficher sans repetation =  490\n",
      "Number des dates extratit avec special caracters =  359\n",
      "Nombre de repetation existe dans l'extrait =  8\n"
     ]
    }
   ],
   "source": [
    "import pandas as pd\n",
    "import csv\n",
    "from transformers import pipeline\n",
    "def isNaN(string):\n",
    "    return string != string\n",
    "extractionEntity = pipeline('ner', model=model, tokenizer=tokenizer, aggregation_strategy=\"simple\")\n",
    "df = pd.read_csv('data.csv')\n",
    "vraiPositif=0\n",
    "counter = 0\n",
    "extrait = 0\n",
    "wordList = [\"le\", \"un\", \"en\"]\n",
    "with open('result.csv', 'w', newline='', encoding=\"utf8\") as file:\n",
    "    writer = csv.writer(file, delimiter =';')\n",
    "    writer.writerow([\"index\", \"text\", \"extraite\", \"score\", \"annotée\"])\n",
    "    for i in df.index:\n",
    "        if not isNaN(df['texte'][i]):\n",
    "            entities = extractionEntity(df['texte'][i])\n",
    "            for entity in entities :\n",
    "                    if (entity['entity_group'] == \"DATE\") :\n",
    "                        extrait+=1\n",
    "                        if any(word in entity['word'] for word in wordList): \n",
    "                            counter+=1\n",
    "                        #print(i, \"text = \",df['texte'][i], \"|||| extraite =\", entity['word'] ,\"|||| score = \", entity['score'] ,\"|||| annotée =\", df['dateNes'][i])\n",
    "                        writer.writerow([i,df['texte'][i], entity['word'], entity['score'], df['dateNes'][i]])\n",
    "                    \n",
    "    file.close()\n",
    "\n",
    "with open('result.csv', 'r', encoding=\"utf8\") as file:\n",
    "    \n",
    "    csv_reader = csv.reader(file, delimiter=';')\n",
    "    uniqueIds = set()\n",
    "\n",
    "    for row in csv_reader:\n",
    "        uniqueIds.add(row[0])\n",
    "\n",
    "datafficher = len(uniqueIds)\n",
    "\n",
    "\n",
    "originalFileDates = 490\n",
    "orginalfiledata=1541\n",
    "fauxPositif = 3\n",
    "vraiPositif = datafficher - fauxPositif\n",
    "fauxNegatif = originalFileDates - vraiPositif\n",
    "vraiNegatif = orginalfiledata-originalFileDates-fauxPositif\n",
    "precision = vraiPositif/(vraiPositif+fauxPositif)\n",
    "rappel =  vraiPositif/(vraiPositif+fauxNegatif)\n",
    "f1score=(2*precision*rappel)/(precision+rappel)\n",
    "Accuracy=(vraiNegatif +vraiPositif)/(vraiNegatif+fauxPositif+vraiPositif+fauxNegatif)\n",
    "\n",
    "\n",
    "with open('stat.csv', 'w', newline='', encoding=\"utf8\") as file:\n",
    "    writer = csv.writer(file, delimiter =';')\n",
    "    writer.writerow([\"originalFileDates\",\"fauxNegatif\", \"vraiPositif\", \"fauxPositif\",\"vraiNegatif\", \"precision\",\"rappel\", \"f1score\",\"Accuracy\"])\n",
    "    writer.writerow([originalFileDates,fauxNegatif, vraiPositif, fauxPositif, vraiNegatif, precision, rappel, f1score, Accuracy])\n",
    "    file.close()\n",
    "\n",
    "repetation = extrait - datafficher\n",
    "\n",
    "print(\"Number data in orginal file  = \" , orginalfiledata)\n",
    "print(\"Number des dates existe in original file data= \" , originalFileDates)\n",
    "print(\"Number de data extrait = \" ,extrait )\n",
    "print(\"Number des data afficher sans repetation = \" , datafficher)\n",
    "print(\"Number des dates afficher sans repetation = \" , vraiPositif)\n",
    "print (\"Number des dates extratit avec special caracters = \", counter)\n",
    "print(\"Nombre de repetation existe dans l'extrait = \" , repetation)\n",
    "\n"
   ]
  },
  {
   "cell_type": "code",
   "execution_count": null,
   "id": "875c2a2c",
   "metadata": {},
   "outputs": [],
   "source": []
  }
 ],
 "metadata": {
  "kernelspec": {
   "display_name": "Python 3 (ipykernel)",
   "language": "python",
   "name": "python3"
  },
  "language_info": {
   "codemirror_mode": {
    "name": "ipython",
    "version": 3
   },
   "file_extension": ".py",
   "mimetype": "text/x-python",
   "name": "python",
   "nbconvert_exporter": "python",
   "pygments_lexer": "ipython3",
   "version": "3.10.4"
  }
 },
 "nbformat": 4,
 "nbformat_minor": 5
}
